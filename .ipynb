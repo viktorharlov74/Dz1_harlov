{
 "cells": [
  {
   "cell_type": "markdown",
   "metadata": {},
   "source": [
    "# 1. Классы и экземпляры"
   ]
  },
  {
   "cell_type": "markdown",
   "metadata": {},
   "source": [
    "## 1.1 Введение в ООП\n",
    "\n",
    "- Развитие методологии “структурное программирование”\n",
    "- Задача программиста - описание свойств, определяющих поведение объектов и моделирование взаимодействия между объектами\n",
    "- Близко к естественному восприятию реального мира человеком, что упрощает задачу построения архитектуры"
   ]
  },
  {
   "cell_type": "markdown",
   "metadata": {},
   "source": [
    "### 1.1.1 Ценность ООП для разработчика"
   ]
  },
  {
   "cell_type": "markdown",
   "metadata": {},
   "source": [
    " - Повышение читабельности кода\n",
    " - Способ организации кода\n",
    " - Выделение значимых и незначимых (с точки зрения поставленной проблемы) свойств объектов, возможность скрыть незначимые от внешнего контрагента\n",
    " - Повторное использование кода\n",
    " - Лучшие возможности для совместной разработки\n",
    " - Удобное покрытие тестами "
   ]
  },
  {
   "cell_type": "markdown",
   "metadata": {},
   "source": [
    "### 1.1.2 Принципы ООП"
   ]
  },
  {
   "cell_type": "markdown",
   "metadata": {},
   "source": [
    "- Инкапсуляция\n",
    "- Наследование\n",
    "- Полиморфизм"
   ]
  },
  {
   "cell_type": "markdown",
   "metadata": {},
   "source": [
    "### 1.1.3 Признаки плохого ООП кода\n",
    "\n",
    "- Низкая гибкость системы\n",
    "- Избыточные зависимости между компонентами\n",
    "- Избыточная (ненужная) функциональность\n",
    "- Невозможность повторного использования компонентов"
   ]
  },
  {
   "cell_type": "markdown",
   "metadata": {},
   "source": [
    "\n",
    "### 1.1.4 Объявление класса"
   ]
  },
  {
   "cell_type": "code",
   "execution_count": 1,
   "metadata": {},
   "outputs": [],
   "source": [
    "class Car:\n",
    "    \"\"\" Common car object\n",
    "    \"\"\"\n"
   ]
  },
  {
   "cell_type": "code",
   "execution_count": 2,
   "metadata": {},
   "outputs": [
    {
     "name": "stdout",
     "output_type": "stream",
     "text": [
      "Help on class Car in module __main__:\n",
      "\n",
      "class Car(builtins.object)\n",
      " |  Common car object\n",
      " |  \n",
      " |  Data descriptors defined here:\n",
      " |  \n",
      " |  __dict__\n",
      " |      dictionary for instance variables (if defined)\n",
      " |  \n",
      " |  __weakref__\n",
      " |      list of weak references to the object (if defined)\n",
      "\n"
     ]
    }
   ],
   "source": [
    "help(Car)"
   ]
  },
  {
   "cell_type": "markdown",
   "metadata": {},
   "source": [
    "или"
   ]
  },
  {
   "cell_type": "code",
   "execution_count": null,
   "metadata": {
    "scrolled": true
   },
   "outputs": [],
   "source": [
    "class Car(object):\n",
    "    pass\n"
   ]
  },
  {
   "cell_type": "code",
   "execution_count": null,
   "metadata": {},
   "outputs": [],
   "source": [
    "help(Car)"
   ]
  },
  {
   "cell_type": "markdown",
   "metadata": {},
   "source": [
    "### 1.1.5 Аттрибуты класса"
   ]
  },
  {
   "cell_type": "code",
   "execution_count": null,
   "metadata": {},
   "outputs": [],
   "source": [
    "class Car:\n",
    "    model = \"Abstract model\"\n",
    "    \n",
    "    def number_of_wheels(self):\n",
    "        return 4"
   ]
  },
  {
   "cell_type": "code",
   "execution_count": null,
   "metadata": {},
   "outputs": [],
   "source": [
    "help(Car)"
   ]
  },
  {
   "cell_type": "markdown",
   "metadata": {},
   "source": [
    "### 1.1.6 Инкапсуляция в Python\n",
    "\n",
    "- Инкапсуляция - это упаковка данных и методов для их обработки в единый компонент\n",
    "- Строгой изоляции нет, но есть соглашения."
   ]
  },
  {
   "cell_type": "code",
   "execution_count": null,
   "metadata": {},
   "outputs": [],
   "source": [
    "class Car:\n",
    "    num_wheels = 4\n",
    "    \n",
    "    def number_of_wheels(self):\n",
    "        return self.num_wheels"
   ]
  },
  {
   "cell_type": "markdown",
   "metadata": {},
   "source": [
    "'Служебный' аттрибут"
   ]
  },
  {
   "cell_type": "code",
   "execution_count": null,
   "metadata": {},
   "outputs": [],
   "source": [
    "class A:\n",
    "    def _private(self):\n",
    "        print(\"Это служебный метод!\")\n",
    "\n",
    "a = A()\n",
    "a._private()"
   ]
  },
  {
   "cell_type": "markdown",
   "metadata": {},
   "source": [
    "Скрытый аттрибут"
   ]
  },
  {
   "cell_type": "code",
   "execution_count": null,
   "metadata": {},
   "outputs": [],
   "source": [
    "class A:\n",
    "    def __private(self):\n",
    "        print(\"Это служебный метод!\")\n",
    "\n",
    "a = A()\n",
    "a.__private()"
   ]
  },
  {
   "cell_type": "code",
   "execution_count": null,
   "metadata": {},
   "outputs": [],
   "source": [
    "print(dir(a))\n",
    "a._A__private()"
   ]
  },
  {
   "cell_type": "markdown",
   "metadata": {},
   "source": [
    "Name mangling (искажение имен):\n",
    "\n",
    "```\n",
    "Since there is a valid use-case for class-private members (namely to avoid name clashes of names with names defined by subclasses), there is limited support for such a mechanism, called name mangling. Any identifier of the form __spam (at least two leading underscores, at most one trailing underscore) is textually replaced with _classname__spam, where classname is the current class name with leading underscore(s) stripped. This mangling is done without regard to the syntactic position of the identifier, as long as it occurs within the definition of a class.\n",
    "```"
   ]
  },
  {
   "cell_type": "markdown",
   "metadata": {},
   "source": [
    "Опасности при использовании скрытых аттрибутов:"
   ]
  },
  {
   "cell_type": "code",
   "execution_count": null,
   "metadata": {},
   "outputs": [],
   "source": [
    "class BaseClass(object):\n",
    "    def __init__(self):\n",
    "        self.func = self.__method\n",
    "\n",
    "    def __method(self):\n",
    "        print(1)\n",
    "\n",
    "    def execute(self):\n",
    "        self.func()\n",
    "\n",
    "\n",
    "class AdvancedClass(BaseClass):\n",
    "    def __method(self):\n",
    "        print(2)\n",
    "\n",
    "o = AdvancedClass()\n",
    "o.execute()"
   ]
  },
  {
   "cell_type": "code",
   "execution_count": null,
   "metadata": {
    "scrolled": false
   },
   "outputs": [],
   "source": [
    "print(o.__class__.__bases__[0].__dict__['__init__'])\n",
    "print(o.__class__.__init__)\n",
    "print(\"o.func references to:\", o.func)"
   ]
  },
  {
   "cell_type": "markdown",
   "metadata": {},
   "source": [
    "## 1.2 Иерархия классов и объектов"
   ]
  },
  {
   "cell_type": "code",
   "execution_count": null,
   "metadata": {},
   "outputs": [],
   "source": [
    "type(1), isinstance(int, object)"
   ]
  },
  {
   "cell_type": "markdown",
   "metadata": {},
   "source": [
    "PyObject\n",
    "\n",
    "```\n",
    "All object types are extensions of this type. This is a type which contains the information Python needs to treat a pointer to an object as an object. In a normal “release” build, it contains only the object’s reference count and a pointer to the corresponding type object. It corresponds to the fields defined by the expansion of the PyObject_HEAD macro.\n",
    "```"
   ]
  },
  {
   "cell_type": "raw",
   "metadata": {},
   "source": [
    "typedef struct {\n",
    "    PyObject_HEAD\n",
    "    long ob_ival;\n",
    "} PyIntObject;"
   ]
  },
  {
   "cell_type": "markdown",
   "metadata": {},
   "source": [
    "## 1.3 Экземпляры класса"
   ]
  },
  {
   "cell_type": "markdown",
   "metadata": {},
   "source": [
    "### 1.3.1 Создание экземпляра класса"
   ]
  },
  {
   "cell_type": "code",
   "execution_count": null,
   "metadata": {},
   "outputs": [],
   "source": [
    "class Dog:\n",
    "    name = \"Class-wide\"\n",
    "    \n",
    "    def say(self):\n",
    "        print(\"{0} says: Bow-wow!\".format(self.name))\n",
    "\n",
    "one_dog = Dog()"
   ]
  },
  {
   "cell_type": "markdown",
   "metadata": {},
   "source": [
    "### 1.3.2 Доступ к атрибутам класса и атрибутам экземпляра класса"
   ]
  },
  {
   "cell_type": "code",
   "execution_count": null,
   "metadata": {},
   "outputs": [],
   "source": [
    "one_dog.name = 'Bob'\n",
    "one_dog.say()\n",
    "\n",
    "another_dog = Dog()\n",
    "another_dog.name = 'Jack'\n",
    "\n",
    "print(\"One dog name is: {0} and another dog name is: {1}\".format(one_dog.name, another_dog.name))"
   ]
  },
  {
   "cell_type": "code",
   "execution_count": null,
   "metadata": {},
   "outputs": [],
   "source": [
    "print(\"hasattr result: {0}\".format(hasattr(one_dog, 'name')))\n",
    "print(\"getattr result: {0}\".format(getattr(one_dog, 'name')))\n",
    "print(\"delattr result: {0}\".format(delattr(one_dog, 'name')))"
   ]
  },
  {
   "cell_type": "markdown",
   "metadata": {},
   "source": [
    "Прямой доступ к аттрибутам возможен через служебный метод __dict__"
   ]
  },
  {
   "cell_type": "code",
   "execution_count": null,
   "metadata": {},
   "outputs": [],
   "source": [
    "help(one_dog)"
   ]
  },
  {
   "cell_type": "markdown",
   "metadata": {},
   "source": [
    "### 1.3.3 Секретный атрибут __dict__"
   ]
  },
  {
   "cell_type": "code",
   "execution_count": null,
   "metadata": {},
   "outputs": [],
   "source": [
    "print(one_dog.__dict__)\n",
    "print(one_dog.__class__.__dict__)"
   ]
  },
  {
   "cell_type": "code",
   "execution_count": null,
   "metadata": {},
   "outputs": [],
   "source": [
    "one_dog.__dict__['pseudoname'] = 'Pseudobob'\n",
    "one_dog.__dict__['fn'] = lambda *args: 123\n",
    "print(\"One dog pseudoname: {0}\".format(one_dog.pseudoname))\n",
    "print(\"One dog fn: {0}\".format(one_dog.fn()))"
   ]
  },
  {
   "cell_type": "markdown",
   "metadata": {},
   "source": [
    "### 1.3.4 Кастомизация класса"
   ]
  },
  {
   "cell_type": "markdown",
   "metadata": {},
   "source": [
    "https://docs.python.org/3/reference/datamodel.html#basic-customization"
   ]
  },
  {
   "cell_type": "code",
   "execution_count": null,
   "metadata": {},
   "outputs": [],
   "source": [
    "class Dog:\n",
    "    def __new__(cls, *args, **kwargs): # <- allocator\n",
    "        print(args, kwargs)\n",
    "        instance = super().__new__(cls)\n",
    "        return instance\n",
    "    \n",
    "    def __init__(self, name):          # <- initializator\n",
    "        self.name = name\n",
    "        \n",
    "    def __del__(self):\n",
    "        print(\"{0} says: good-bye!\".format(self.name))\n",
    "    \n",
    "    def say(self):\n",
    "        print(\"Bow-wow!\")"
   ]
  },
  {
   "cell_type": "code",
   "execution_count": null,
   "metadata": {},
   "outputs": [],
   "source": [
    "d = Dog('somedog')\n",
    "d.name"
   ]
  },
  {
   "cell_type": "markdown",
   "metadata": {},
   "source": [
    "### 1.3.5 Деструктор класса"
   ]
  },
  {
   "cell_type": "code",
   "execution_count": null,
   "metadata": {},
   "outputs": [],
   "source": [
    "del d"
   ]
  },
  {
   "cell_type": "markdown",
   "metadata": {},
   "source": [
    "# 2. Методы"
   ]
  },
  {
   "cell_type": "markdown",
   "metadata": {},
   "source": [
    "Методы класса - это процедуры, выполняющиеся в контексте класса или экземпляра класса"
   ]
  },
  {
   "cell_type": "markdown",
   "metadata": {},
   "source": [
    "## 2.1 Доступ к аттрибутам класса или экземпляра класса"
   ]
  },
  {
   "cell_type": "code",
   "execution_count": 46,
   "metadata": {},
   "outputs": [
    {
     "name": "stdout",
     "output_type": "stream",
     "text": [
      "Bob says: Bow-wow!\n"
     ]
    }
   ],
   "source": [
    "class Dog:    \n",
    "    def __init__(self, name):          # <- initializator\n",
    "        self.name = name\n",
    "    \n",
    "    def say(self):\n",
    "        print(\"{0} says: Bow-wow!\".format(self.name))\n",
    "\n",
    "dog = Dog(\"Bob\")\n",
    "dog.say()"
   ]
  },
  {
   "cell_type": "markdown",
   "metadata": {},
   "source": [
    "## 2.2 Доступ к приватным аттрибутам"
   ]
  },
  {
   "cell_type": "code",
   "execution_count": null,
   "metadata": {},
   "outputs": [],
   "source": [
    "class Dog:    \n",
    "    def __init__(self):          # <- initializator\n",
    "        self.__name = \"nameless\"\n",
    "    \n",
    "    def set_name(self, name):\n",
    "        self.__name = name\n",
    "        \n",
    "    def _say(this, word):\n",
    "        print(\"{0} says: {1}\".format(this.__name, word))\n",
    "    \n",
    "    def say_bow(self):\n",
    "        self._say(\"Bow!\")\n",
    "        \n",
    "    def say_wow(self):\n",
    "        self._say(\"Wow!\")\n",
    "\n",
    "dog2 = Dog()\n",
    "dog2.set_name('Bob')\n",
    "dog2.say_bow()\n",
    "dog2._say('Wow!')     # <- bad practice"
   ]
  },
  {
   "cell_type": "markdown",
   "metadata": {},
   "source": [
    "## 2.3 Первый аргумент - ссылка на экземпляр класса"
   ]
  },
  {
   "cell_type": "markdown",
   "metadata": {},
   "source": [
    "## 2.4 classmethod"
   ]
  },
  {
   "cell_type": "code",
   "execution_count": null,
   "metadata": {},
   "outputs": [],
   "source": [
    "from utils.decoders import UINT32, re_cidr\n",
    "\n",
    "class IPv4(UINT32):\n",
    "    @classmethod\n",
    "    def from_cidr(cls, value):\n",
    "        cidr = re_cidr.match(value)\n",
    "\n",
    "        if not cidr:\n",
    "            raise ValueError(\"Invalid CIDR string\")\n",
    "\n",
    "        return cls([int(cidr.group(group + 1)) for group in range(4)])\n",
    "\n",
    "    def __str__(self):\n",
    "        return '.'.join(['%d' % b for b in self._value[:]])\n",
    "\n",
    "    def __repr__(self):\n",
    "        return str(self)\n",
    "\n",
    "ip = IPv4.from_cidr(\"192.168.0.1\")\n",
    "#ip = IPv4(3232235521)\n",
    "#ip = IPv4([192, 168, 0, 1])\n",
    "print(int(ip), str(ip))"
   ]
  },
  {
   "cell_type": "markdown",
   "metadata": {},
   "source": [
    "## 2.5 staticmethod"
   ]
  },
  {
   "cell_type": "code",
   "execution_count": null,
   "metadata": {},
   "outputs": [],
   "source": [
    "class MyClass(object):\n",
    "    @staticmethod\n",
    "    def the_static_method(x):\n",
    "        print(x)\n",
    "\n",
    "MyClass.the_static_method(2)"
   ]
  },
  {
   "cell_type": "markdown",
   "metadata": {},
   "source": [
    "## 2.6 property"
   ]
  },
  {
   "cell_type": "code",
   "execution_count": null,
   "metadata": {},
   "outputs": [],
   "source": [
    "class NumericList(object):\n",
    "\n",
    "    ...\n",
    "\n",
    "    @property\n",
    "    def packed(self):\n",
    "        return string_at(self._value, self._size)\n"
   ]
  },
  {
   "cell_type": "code",
   "execution_count": null,
   "metadata": {},
   "outputs": [],
   "source": [
    "class NumericList:\n",
    "    def __init__(self, value, size):\n",
    "        self.value = value\n",
    "        self.size = size\n",
    "\n",
    "    @property\n",
    "    def packed(self):\n",
    "        return self.value + self.size\n",
    "\n",
    "numlist = NumericList(2, 2)\n",
    "print(\"Packed value: {0}\".format(numlist.packed))"
   ]
  },
  {
   "cell_type": "code",
   "execution_count": null,
   "metadata": {},
   "outputs": [],
   "source": [
    "class C:\n",
    "    def __init__(self):\n",
    "        self._x = None\n",
    "\n",
    "    def getx(self):\n",
    "        return self._x\n",
    "\n",
    "    def setx(self, value):\n",
    "        self._x = value\n",
    "\n",
    "    def delx(self):\n",
    "        del self._x\n",
    "\n",
    "    x = property(getx, setx, delx, \"I'm the 'x' property.\")\n",
    "\n",
    "c = C()\n",
    "c.x = 5\n",
    "print(\"c.x={0}\".format(c.x))"
   ]
  },
  {
   "cell_type": "markdown",
   "metadata": {},
   "source": [
    "# 3. Наследование"
   ]
  },
  {
   "cell_type": "code",
   "execution_count": 6,
   "metadata": {},
   "outputs": [
    {
     "name": "stdout",
     "output_type": "stream",
     "text": [
      "<class '__main__.Dog'> says: Bow!\n"
     ]
    }
   ],
   "source": [
    "# create absctract animal\n",
    "class Animal(object):\n",
    "    def say(self):\n",
    "        raise NotImplementedError('subclasses must override say()!')\n",
    "        \n",
    "# create specific animal\n",
    "class Dog(Animal):\n",
    "    name = None\n",
    "    \n",
    "    def say(self):\n",
    "        print(\"{0} says: Bow!\".format(self.__class__))\n",
    "\n",
    "dog = Dog()\n",
    "dog.say()"
   ]
  },
  {
   "cell_type": "markdown",
   "metadata": {},
   "source": [
    "## 3.1 Абстрактный класс vs Интерфейс"
   ]
  },
  {
   "cell_type": "code",
   "execution_count": null,
   "metadata": {},
   "outputs": [],
   "source": [
    "class Animal(object):\n",
    "    def say(self):\n",
    "        raise NotImplementedError('subclasses must override say()!')\n"
   ]
  },
  {
   "cell_type": "code",
   "execution_count": null,
   "metadata": {},
   "outputs": [],
   "source": [
    "# create absctract animal\n",
    "abstract_animal = Animal()\n",
    "abstract_animal.say()"
   ]
  },
  {
   "cell_type": "code",
   "execution_count": null,
   "metadata": {},
   "outputs": [],
   "source": [
    "# create specific animal\n",
    "class Dog(Animal):\n",
    "    name = None\n",
    "    \n",
    "    def say(self):\n",
    "        print(\"{0} says: Bow!\".format(self.__class__))\n",
    "\n",
    "dog = Dog()\n",
    "dog.say()"
   ]
  },
  {
   "cell_type": "code",
   "execution_count": null,
   "metadata": {},
   "outputs": [],
   "source": [
    "# Альтернативный вариант: использование модуля <abc>\n",
    "import abc"
   ]
  },
  {
   "cell_type": "markdown",
   "metadata": {},
   "source": [
    "## 3.2 Множественное наследование"
   ]
  },
  {
   "cell_type": "code",
   "execution_count": null,
   "metadata": {},
   "outputs": [],
   "source": [
    "class DES_3200_28(IDlinkSwitch, IL2SwitchMixin, QBridgeMIBMixin, \n",
    "                  DlinkL2MgmtMixin, LLDPMixin, DDMMixin, CableDiagMixin, \n",
    "                  AgentGeneralMixin, IpAddrMixin):\n",
    "    product = 'DES-3200-28'\n",
    "    portnum = 28"
   ]
  },
  {
   "cell_type": "markdown",
   "metadata": {},
   "source": [
    "Mixin - полный аналог множественного наследования, но обычно примеси не применяются в качестве самостоятельных объектов"
   ]
  },
  {
   "cell_type": "markdown",
   "metadata": {},
   "source": [
    "## 3.3 MRO"
   ]
  },
  {
   "cell_type": "code",
   "execution_count": null,
   "metadata": {},
   "outputs": [],
   "source": [
    "class X(object): pass\n",
    "class Y(object): pass\n",
    "class A(X, Y): pass\n",
    "class B(Y, X): pass\n",
    "\n",
    "class C(A, B): pass"
   ]
  },
  {
   "cell_type": "markdown",
   "metadata": {},
   "source": [
    "Финальный список формируется так: сначала добавляется данный класс, потом рассматривается первый класс из линеаризации первого родителя, если он не встречается в других списках, то добавляется в финальный и так далее. Если участвует, то переходим к рассмотрению следующего родителя. "
   ]
  },
  {
   "cell_type": "markdown",
   "metadata": {},
   "source": [
    "## 3.4 Композиция"
   ]
  },
  {
   "cell_type": "code",
   "execution_count": null,
   "metadata": {},
   "outputs": [],
   "source": [
    "class Door:\n",
    "    colour = 'brown'\n",
    "\n",
    "    def __init__(self, number, status):\n",
    "        self.number = number\n",
    "        self.status = status\n",
    "\n",
    "    @classmethod\n",
    "    def knock(cls):\n",
    "        print(\"Knock!\")\n",
    "\n",
    "    @classmethod\n",
    "    def paint(cls, colour):\n",
    "        cls.colour = colour\n",
    "\n",
    "    def open(self):\n",
    "        self.status = 'open'\n",
    "\n",
    "    def close(self):\n",
    "        self.status = 'closed'\n",
    "\n",
    "# 1. Inheritance\n",
    "class SecurityDoor(Door):\n",
    "    colour = 'gray'\n",
    "    locked = True\n",
    "\n",
    "    def open(self):\n",
    "        if not self.locked:\n",
    "            self.status = 'open'"
   ]
  },
  {
   "cell_type": "code",
   "execution_count": null,
   "metadata": {},
   "outputs": [],
   "source": [
    "door_inheritance = SecurityDoor(99, 'closed')\n",
    "door_inheritance.open()\n",
    "print(\"Inheritance SecurityDoor status: <%s>\" % door_inheritance.status)"
   ]
  },
  {
   "cell_type": "code",
   "execution_count": null,
   "metadata": {},
   "outputs": [],
   "source": [
    "# 2. Inheritance (call parent method instead of derived class method)\n",
    "class SecurityDoor(Door):\n",
    "    colour = 'gray'\n",
    "    locked = True\n",
    "\n",
    "    def open(self):\n",
    "        if not self.locked:\n",
    "            super().open()"
   ]
  },
  {
   "cell_type": "code",
   "execution_count": null,
   "metadata": {},
   "outputs": [],
   "source": [
    "door_inheritance2 = SecurityDoor(99, 'closed')\n",
    "door_inheritance2.open()\n",
    "print(\"Inheritance SecurityDoor status: <%s>\" % door_inheritance2.status)"
   ]
  },
  {
   "cell_type": "code",
   "execution_count": null,
   "metadata": {},
   "outputs": [],
   "source": [
    "# 3. Composition\n",
    "class SecurityDoor:\n",
    "    colour = 'gray'\n",
    "    locked = True\n",
    "    \n",
    "    def __init__(self, number, status):\n",
    "        self.door = Door(number, status)\n",
    "\n",
    "    def open(self):\n",
    "        if not self.locked:\n",
    "            self.door.open()\n",
    "    \n",
    "    @property\n",
    "    def status(self):\n",
    "        return self.door.status\n",
    "    \n",
    "    #def __getattr__(self, attr):\n",
    "    #    return getattr(self.door, attr)"
   ]
  },
  {
   "cell_type": "code",
   "execution_count": null,
   "metadata": {},
   "outputs": [],
   "source": [
    "door_composition = SecurityDoor(99, 'closed')\n",
    "door_composition.open()\n",
    "print(\"Composition SecurityDoor status: <%s>\" % door_composition.status)"
   ]
  },
  {
   "cell_type": "markdown",
   "metadata": {},
   "source": [
    "# 4. Полиморфизм"
   ]
  },
  {
   "cell_type": "markdown",
   "metadata": {},
   "source": [
    "## 4.1 Полиморфизм"
   ]
  },
  {
   "cell_type": "code",
   "execution_count": null,
   "metadata": {},
   "outputs": [],
   "source": [
    "class IPNetworkv4(UINT32):\n",
    "\n",
    "    ...\n",
    "\n",
    "    def __contains__(self, ip):\n",
    "        return int(ip) & self.network_mask == self.network_addr\n"
   ]
  },
  {
   "cell_type": "markdown",
   "metadata": {},
   "source": [
    "## 4.2 Множественная диспетчеризация (мультиметоды)"
   ]
  },
  {
   "cell_type": "markdown",
   "metadata": {},
   "source": [
    "Вариант 1: Используем duck-typing"
   ]
  },
  {
   "cell_type": "code",
   "execution_count": null,
   "metadata": {},
   "outputs": [],
   "source": [
    "def foo(a, b):\n",
    "    if isinstance(a, int) and isinstance(b, int):\n",
    "        ...code for two ints...\n",
    "    elif isinstance(a, float) and isinstance(b, float):\n",
    "        ...code for two floats...\n",
    "    elif isinstance(a, str) and isinstance(b, str):\n",
    "        ...code for two strings...\n",
    "    else:\n",
    "        raise TypeError(\"unsupported argument types (%s, %s)\" % (type(a), type(b)))"
   ]
  },
  {
   "cell_type": "markdown",
   "metadata": {},
   "source": [
    "Вариант 2: Pythonic way от великого пожизненного диктатора"
   ]
  },
  {
   "cell_type": "code",
   "execution_count": null,
   "metadata": {},
   "outputs": [],
   "source": [
    "#from mm import multimethod\n",
    "\n",
    "registry = {}\n",
    "\n",
    "class MultiMethod(object):\n",
    "    def __init__(self, name):\n",
    "        self.name = name\n",
    "        self.typemap = {}\n",
    "    def __call__(self, *args):\n",
    "        types = tuple(arg.__class__ for arg in args) # a generator expression!\n",
    "        function = self.typemap.get(types)\n",
    "        if function is None:\n",
    "            raise TypeError(\"no match\")\n",
    "        return function(*args)\n",
    "    def register(self, types, function):\n",
    "        if types in self.typemap:\n",
    "            raise TypeError(\"duplicate registration\")\n",
    "        self.typemap[types] = function\n",
    "\n",
    "def multimethod(*types):\n",
    "    def register(function):\n",
    "        name = function.__name__\n",
    "        mm = registry.get(name)\n",
    "        if mm is None:\n",
    "            mm = registry[name] = MultiMethod(name)\n",
    "        mm.register(types, function)\n",
    "        return mm\n",
    "    return register\n",
    "\n",
    "@multimethod(int, int)\n",
    "def foo(a, b):\n",
    "    print(\"Two ints passed\")\n",
    "\n",
    "@multimethod(float, float)\n",
    "def foo(a, b):\n",
    "    print(\"Two floats passed\")\n",
    "\n",
    "@multimethod(str, str)\n",
    "def foo(a, b):\n",
    "    print(\"Two strings passed\")\n",
    "\n",
    "foo(1,1)\n",
    "foo(1.0,1.0)\n",
    "foo(\"1.0\",\"1.0\")"
   ]
  },
  {
   "cell_type": "markdown",
   "metadata": {},
   "source": [
    "# 5. Магические методы"
   ]
  },
  {
   "cell_type": "code",
   "execution_count": null,
   "metadata": {},
   "outputs": [],
   "source": [
    "', '.join((method for method in dir(1)))\n"
   ]
  },
  {
   "cell_type": "code",
   "execution_count": null,
   "metadata": {},
   "outputs": [],
   "source": [
    "class BrokenInt(int):\n",
    "    def __add__(self, other):\n",
    "        return str(self) + str(other)"
   ]
  },
  {
   "cell_type": "code",
   "execution_count": null,
   "metadata": {},
   "outputs": [],
   "source": [
    "bi = BrokenInt(1)\n",
    "bi += 1\n",
    "print(bi)"
   ]
  },
  {
   "cell_type": "markdown",
   "metadata": {},
   "source": [
    "### Изменение поведения объекта"
   ]
  },
  {
   "cell_type": "code",
   "execution_count": null,
   "metadata": {},
   "outputs": [],
   "source": [
    "sendp(Ether(dst='clientMAC')/Dot1Q(vlan=1)/Dot1Q(vlan=2)/ARP(op='who-has', psrc='gatewayIP', pdst='clientIP'))"
   ]
  },
  {
   "cell_type": "code",
   "execution_count": null,
   "metadata": {},
   "outputs": [],
   "source": [
    "class Packet(six.with_metaclass(Packet_metaclass, BasePacket)):\n",
    "    def __div__(self, other):\n",
    "        if isinstance(other, Packet):\n",
    "            cloneA = self.copy()\n",
    "            cloneB = other.copy()\n",
    "            cloneA.add_payload(cloneB)\n",
    "            return cloneA\n",
    "        elif isinstance(other, (bytes, str)):\n",
    "            return self / conf.raw_layer(load=other)\n",
    "        else:\n",
    "            return other.__rdiv__(self)\n",
    "    __truediv__ = __div__"
   ]
  },
  {
   "cell_type": "markdown",
   "metadata": {},
   "source": [
    "Магический метод ```__slots__```"
   ]
  },
  {
   "cell_type": "code",
   "execution_count": null,
   "metadata": {},
   "outputs": [],
   "source": [
    "class MyFirstClass:\n",
    "    __slots__ = ['a', 'b']\n",
    "    \n",
    "    def __init__(self):\n",
    "        self.a = 1"
   ]
  },
  {
   "cell_type": "code",
   "execution_count": null,
   "metadata": {},
   "outputs": [],
   "source": [
    "mfc = MyFirstClass()\n",
    "print(mfc.a)"
   ]
  },
  {
   "cell_type": "code",
   "execution_count": null,
   "metadata": {},
   "outputs": [],
   "source": [
    "print(mfc.__dict__)"
   ]
  },
  {
   "cell_type": "code",
   "execution_count": null,
   "metadata": {},
   "outputs": [],
   "source": [
    "class MySecondClass:\n",
    "    __slots__ = ['a', 'b']\n",
    "    \n",
    "    def __init__(self):\n",
    "        self.d = 4"
   ]
  },
  {
   "cell_type": "code",
   "execution_count": null,
   "metadata": {},
   "outputs": [],
   "source": [
    "msc = MySecondClass()"
   ]
  },
  {
   "cell_type": "markdown",
   "metadata": {},
   "source": [
    "# Домашнее задание"
   ]
  },
  {
   "cell_type": "markdown",
   "metadata": {},
   "source": [
    "Cпроектируйте объектную модель соревнования, вы должны учитывать разные спецификации автомобилей, погодные условия, и то что в один момент времени может проходить только одно соревнование, как итог, запустите гонку с разными автомобилями и продемонстрируйте победителей)\n",
    "\n",
    "Требования к решению:\n",
    " 1. Описать 3 класса:\n",
    "  - Автомобиль\n",
    "  - Погода\n",
    "  - Соревнование\n",
    " 2. Выполнить требования к классу Автомобиль:\n",
    "  - Зафиксировать спецификации автомобилей как атрибут класса\n",
    " 3. Выполнить требования к классу Погода:\n",
    "  - Реализовать доступ к функции получения скорости ветра как к переменной экземпляра класса\n",
    " 4. Выполнить требования к классу Соревнование:\n",
    "  - в качестве входных аргументов принимает 1 параметр — длина дистанции\n",
    "  - не позволять создание более 1 экземпляра класса (обратите внимание на метод класса new)"
   ]
  },
  {
   "cell_type": "code",
   "execution_count": 38,
   "metadata": {},
   "outputs": [
    {
     "name": "stdout",
     "output_type": "stream",
     "text": [
      "Car <ferrary> result: 39.366180\n",
      "Car <bugatti> result: 39.972707\n",
      "Car <toyota> result: 67.214314\n",
      "Car <lada> result: 79.851746\n",
      "Car <sx4> result: 70.690343\n"
     ]
    }
   ],
   "source": [
    "#!/usr/bin/env python\n",
    "\n",
    "from random import randint\n",
    "\n",
    "CAR_SPECS = {\n",
    "    'ferrary': {\"max_speed\": 340, \"drag_coef\": 0.324, \"time_to_max\": 26},\n",
    "    'bugatti': {\"max_speed\": 407, \"drag_coef\": 0.39, \"time_to_max\": 32},\n",
    "    'toyota': {\"max_speed\": 180, \"drag_coef\": 0.25, \"time_to_max\": 40},\n",
    "    'lada': {\"max_speed\": 180, \"drag_coef\": 0.32, \"time_to_max\": 56},\n",
    "    'sx4': {\"max_speed\": 180, \"drag_coef\": 0.33, \"time_to_max\": 44},\n",
    "}\n",
    "\n",
    "\n",
    "def start(competitors, distance, wind_speed):\n",
    "    for competitor_name in competitors:\n",
    "        competitor_time = 0\n",
    "        competitor_speed = 0\n",
    "        car = CAR_SPECS[competitor_name]\n",
    "\n",
    "        for distance in range(distance):\n",
    "            _wind_speed = randint(0, wind_speed)\n",
    "\n",
    "            if competitor_time == 0:\n",
    "                _speed = 1\n",
    "            else:\n",
    "                _speed = (competitor_time / car[\"time_to_max\"]) * car['max_speed']\n",
    "                if _speed > _wind_speed:\n",
    "                    _speed -= (car[\"drag_coef\"] * _wind_speed)\n",
    "\n",
    "            competitor_time += float(1) / _speed\n",
    "\n",
    "        print(\"Car <%s> result: %f\" % (competitor_name, competitor_time))\n",
    "\n",
    "\n",
    "competitors = ('ferrary', 'bugatti', 'toyota', 'lada', 'sx4')\n",
    "start(competitors, distance=10000, wind_speed=20)"
   ]
  },
  {
   "cell_type": "code",
   "execution_count": 51,
   "metadata": {},
   "outputs": [
    {
     "name": "stdout",
     "output_type": "stream",
     "text": [
      "Car <ferrary> result: 12.753032\n",
      "Car <bugatti> result: 13.006657\n",
      "Car <toyota> result: 20.655078\n",
      "Car <lada> result: 39.736203\n",
      "Car <sx4> result: 17.985375\n"
     ]
    }
   ],
   "source": [
    "from random import randint\n",
    "class Auto:\n",
    "    def __init__(self, name, max_speed,drag_coef,time_to_max):\n",
    "        self.name = name\n",
    "        self.max_speed = max_speed\n",
    "        self.drag_coef = drag_coef\n",
    "        self.time_to_max = time_to_max\n",
    "\n",
    "    def start(self):\n",
    "        print(self.name)\n",
    "\n",
    "class Weather:\n",
    "\n",
    "    def __init__(self, wind):\n",
    "        self.wind =randint(0, wind)\n",
    "        \n",
    "    def start(self):\n",
    "        print(self.wind)\n",
    "\n",
    "        \n",
    "class Tournament:\n",
    "    competitor_time = 0\n",
    "    competitor_speed = 0\n",
    "    res={}\n",
    "    cars=[]\n",
    "    ferrary=Auto(\"ferrary\",340, 0.324, 26)\n",
    "    bugatti=Auto(\"bugatti\",407, 0.39, 32)\n",
    "    toyota=Auto(\"toyota\",180, 0.24, 36)\n",
    "    lada=Auto(\"lada\",120, 0.54, 76)\n",
    "    sx4=Auto(\"sx4\",176, 0.384, 26)\n",
    "    cars=[ferrary,bugatti,toyota,lada,sx4]\n",
    "    weather=Weather(20)\n",
    "    \n",
    "    def __init__(self,distance):\n",
    "        self.distance=distance\n",
    "        \n",
    "    def start(self):\n",
    "        for auto in self.cars:\n",
    "            self.competitor_time = 0\n",
    "            self.competitor_speed = 0\n",
    "            for dist in range(self.distance):\n",
    "                if self.competitor_time == 0:\n",
    "                    speed = 1\n",
    "                else:\n",
    "                    speed = (self.competitor_time / auto.time_to_max * auto.max_speed)\n",
    "                    if speed > self.weather.wind:\n",
    "                             speed-= (auto.drag_coef * self.weather.wind)\n",
    "                self.competitor_time+= float(1) /speed\n",
    "            self.res[auto.name]=self.competitor_time\n",
    "    def finish(self):\n",
    "        for car in self.res:\n",
    "            print(\"Car <%s> result: %f\" % (car, self.res[car]))\n",
    "\n",
    "\n",
    "tur=Tournament(1000)\n",
    "tur.start()\n",
    "tur.finish()"
   ]
  },
  {
   "cell_type": "code",
   "execution_count": null,
   "metadata": {},
   "outputs": [],
   "source": []
  },
  {
   "cell_type": "code",
   "execution_count": null,
   "metadata": {},
   "outputs": [],
   "source": []
  }
 ],
 "metadata": {
  "kernelspec": {
   "display_name": "Python 3",
   "language": "python",
   "name": "python3"
  },
  "language_info": {
   "codemirror_mode": {
    "name": "ipython",
    "version": 3
   },
   "file_extension": ".py",
   "mimetype": "text/x-python",
   "name": "python",
   "nbconvert_exporter": "python",
   "pygments_lexer": "ipython3",
   "version": "3.7.0"
  }
 },
 "nbformat": 4,
 "nbformat_minor": 2
}
